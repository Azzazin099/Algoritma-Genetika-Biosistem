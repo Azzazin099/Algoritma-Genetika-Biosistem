{
  "nbformat": 4,
  "nbformat_minor": 0,
  "metadata": {
    "colab": {
      "name": "Tugas Algen Biosistem_18696_Ansgarius Pangestu Adjie",
      "provenance": [],
      "collapsed_sections": []
    },
    "kernelspec": {
      "name": "python3",
      "display_name": "Python 3"
    },
    "language_info": {
      "name": "python"
    }
  },
  "cells": [
    {
      "cell_type": "code",
      "metadata": {
        "id": "LTC75I1cPvje"
      },
      "source": [
        "import math\n",
        "import random as rd\n",
        "import numpy as np"
      ],
      "execution_count": 11,
      "outputs": []
    },
    {
      "cell_type": "code",
      "metadata": {
        "id": "s-XeWYc_P0vV"
      },
      "source": [
        "def nilaiFitness(kombinasi):\n",
        "    fitness = 0\n",
        "    for i in range(1,len(kombinasi)):\n",
        "        fitness = fitness + math.sqrt((math.pow((node[kombinasi[i]][0] - node[kombinasi[i-1]][0]),2))+math.pow((node[kombinasi[i-1]][1] - node[kombinasi[i]][1]),2))\n",
        "    return -fitness"
      ],
      "execution_count": 12,
      "outputs": []
    },
    {
      "cell_type": "code",
      "metadata": {
        "id": "XeKDqSFTP3Pc"
      },
      "source": [
        "def tournamentParent(populasi, panjangTournament):\n",
        "    idxSample = np.arange(len(populasi))\n",
        "    np.random.shuffle(idxSample)\n",
        "    idxSample = idxSample[0:panjangTournament]\n",
        "    fitnesses = [(nilaiFitness(pop[idxSample[i]])) for i in range(panjangTournament)]\n",
        "    mergedArray = [(idxSample[i], fitnesses[i]) for i in range(panjangTournament)]\n",
        "    mergedArray = sorted(mergedArray,key = lambda a : a[1], reverse = True)\n",
        "    return mergedArray[0][0], mergedArray[1][0]"
      ],
      "execution_count": 13,
      "outputs": []
    },
    {
      "cell_type": "code",
      "metadata": {
        "id": "TdTEPyCsP6m9"
      },
      "source": [
        "def generateKromosom(jumlahPopulasi, panjangKromosom):\n",
        "    populasi = []\n",
        "    tmpStartEndNode = np.array([0])\n",
        "    for i in range(jumlahPopulasi):\n",
        "        kromosom = []\n",
        "        kromosom = np.arange(1,panjangKromosom)\n",
        "        np.random.shuffle(kromosom)\n",
        "        kromosom = np.concatenate((tmpStartEndNode,kromosom), axis = 0)\n",
        "        kromosom = np.concatenate((kromosom,tmpStartEndNode), axis = 0)\n",
        "        populasi.append(list(kromosom))\n",
        "    return populasi"
      ],
      "execution_count": 14,
      "outputs": []
    },
    {
      "cell_type": "code",
      "metadata": {
        "id": "X6KKV_u8P9vs"
      },
      "source": [
        "def crossover(kromosom1, kromosom2, pC):\n",
        "    prob = np.random.random()\n",
        "    point = np.random.randint(1,len(kromosom1)-1)\n",
        "    tmpKromosom1 = []\n",
        "    tmpKromosom2 = []\n",
        "    cekKromosom1 = []\n",
        "    cekKromosom2 = []\n",
        "    if(prob <= pC):\n",
        "        tmpKromosom1 = kromosom1[:point]\n",
        "        tmpKromosom2 = kromosom2[:point]\n",
        "        cekKromosom1 = kromosom1[point:]\n",
        "        cekKromosom2 = kromosom2[point:]\n",
        "        for i in range(point, len(kromosom2)):\n",
        "            if(kromosom2[i] in tmpKromosom1):\n",
        "                for j in range(len(kromosom1)):\n",
        "                    if((kromosom1[j] not in tmpKromosom1) and (kromosom1[j] not in cekKromosom2)):\n",
        "                        tmpKromosom1 = tmpKromosom1 + [kromosom1[j]]\n",
        "                        break\n",
        "                        \n",
        "            else:\n",
        "                tmpKromosom1 = tmpKromosom1 + [kromosom2[i]]\n",
        "        for i in range(point, len(kromosom1)):\n",
        "            if(kromosom1[i] in tmpKromosom2):\n",
        "                for j in range(len(kromosom2)):\n",
        "                    if((kromosom2[j] not in tmpKromosom2) and (kromosom2[j] not in cekKromosom1)):\n",
        "                        tmpKromosom2 = tmpKromosom2 + [kromosom2[j]]\n",
        "                        break\n",
        "            else:\n",
        "                tmpKromosom2 = tmpKromosom2 + [kromosom1[i]]\n",
        "        \n",
        "        tmpKromosom1 = tmpKromosom1 + kromosom1[len(kromosom1)-1:len(kromosom1)]\n",
        "        tmpKromosom2 = tmpKromosom2 + kromosom2[len(kromosom2)-1:len(kromosom2)]\n",
        "    else:\n",
        "        tmpKromosom1 = kromosom1\n",
        "        tmpKromosom2 = kromosom2\n",
        "    return tmpKromosom1, tmpKromosom2"
      ],
      "execution_count": 15,
      "outputs": []
    },
    {
      "cell_type": "code",
      "metadata": {
        "id": "iUZBAGiHQFwu"
      },
      "source": [
        "def mutasi(kromosom, pM):\n",
        "    for i in range(1,len(kromosom)-1):\n",
        "        tmp = 0\n",
        "        prob = np.random.random()\n",
        "        if(prob <= pM):\n",
        "            while(tmp == 0):\n",
        "                tmp = np.random.randint(1,len(kromosom)-2)\n",
        "            for j in range(1, len(kromosom)-1):\n",
        "                if(tmp == kromosom[j]):\n",
        "                    kromosom[j] = kromosom[i]\n",
        "                    kromosom[i] = tmp\n",
        "                    break\n",
        "    return kromosom"
      ],
      "execution_count": 16,
      "outputs": []
    },
    {
      "cell_type": "code",
      "metadata": {
        "id": "DwD_bX9bQJiH"
      },
      "source": [
        "def steadyState(jumlahGeneration ,populasi, jumlahPopulasi, panjangTournament):\n",
        "    for j in range(jumlahGeneration):\n",
        "        gabungan = []\n",
        "        child = []\n",
        "        fitnesses = []\n",
        "#         print(populasi)\n",
        "        for i in range(round(len(populasi)/2)):\n",
        "            idxParent1, idxParent2 = tournamentParent(populasi, panjangTournament)\n",
        "            orang1 = populasi[idxParent1][:]\n",
        "            orang2 = populasi[idxParent2][:]\n",
        "            \n",
        "            #Crossover\n",
        "            orang1,orang2 = crossover(orang1,orang2,pC)\n",
        "            \n",
        "            #Mutasi\n",
        "            orang1 = mutasi(orang1,pM)\n",
        "            orang2 = mutasi(orang2,pM)\n",
        "            \n",
        "            child.append(orang1)\n",
        "            child.append(orang2)\n",
        "            \n",
        "        gabungan = populasi + child\n",
        "        for i in range(len(gabungan)):\n",
        "            fitnesses.append(nilaiFitness(gabungan[i]))\n",
        "        mergedArray = [(gabungan[i], fitnesses[i]) for i in range(len(gabungan))]\n",
        "        mergedArray = sorted(mergedArray, key = lambda a : a[1], reverse = True)\n",
        "        pop = []\n",
        "        tmp = []\n",
        "        t = 0\n",
        "        jumlah = 0\n",
        "        \n",
        "#         print(mergedArray)\n",
        "        for i in range(len(gabungan)):\n",
        "            if(i >= 1):\n",
        "                nilai = nilaiFitness(gabungan[i])\n",
        "                if(nilai == mergedArray[jumlah-1][1]):\n",
        "                    tmp.append(mergedArray[i][0])\n",
        "                    t += 1\n",
        "                else:\n",
        "                    pop.append(mergedArray[i][0])\n",
        "                    jumlah+=1\n",
        "            else:\n",
        "                pop.append(mergedArray[i][0])\n",
        "                jumlah+=1\n",
        "            if(jumlah == jumlahPopulasi):\n",
        "                break\n",
        "        \n",
        "        z = 0\n",
        "\n",
        "        while(jumlah < jumlahPopulasi):\n",
        "            pop.append(tmp[z])\n",
        "            z+=1\n",
        "            jumlah+=1\n",
        "        populasi = []\n",
        "        populasi = pop\n",
        "    return populasi"
      ],
      "execution_count": 17,
      "outputs": []
    },
    {
      "cell_type": "code",
      "metadata": {
        "id": "oiDdItPZQOk5"
      },
      "source": [
        "node = [[82,76],\n",
        "        [96,44],\n",
        "        [50,5],\n",
        "        [49,8],\n",
        "        [13,7],\n",
        "        [29,89],\n",
        "        [58,30],\n",
        "        [84,39],\n",
        "        [14,24],\n",
        "        [2,39],\n",
        "        [3,82],\n",
        "        [5,10],\n",
        "        [98,52],\n",
        "        [84,25],\n",
        "        [61,59],\n",
        "        [1,65]]\n",
        "\n",
        "jumlah_generasi = 1000\n",
        "jumlah_populasi = 125\n",
        "panjangTournament = round(jumlah_populasi/2)\n",
        "pC = 0.9\n",
        "pM = 0.4"
      ],
      "execution_count": 18,
      "outputs": []
    },
    {
      "cell_type": "code",
      "metadata": {
        "colab": {
          "base_uri": "https://localhost:8080/"
        },
        "id": "c6oxaCikQUkO",
        "outputId": "b8696b66-5867-4905-ff52-2deaee85730f"
      },
      "source": [
        "pop = generateKromosom(jumlah_populasi,16)\n",
        "pop = list(pop)\n",
        "pop = steadyState(jumlah_generasi, pop, jumlah_populasi, panjangTournament)\n",
        "print(\"Generasi \"+str(jumlah_generasi))\n",
        "print(\"Rute Terbaik : \"+str(pop[0]))\n",
        "print(\"Cost/Jarak : \"+str(-nilaiFitness(pop[0])))"
      ],
      "execution_count": 19,
      "outputs": [
        {
          "output_type": "stream",
          "name": "stdout",
          "text": [
            "Generasi 1000\n",
            "Rute Terbaik : [0, 12, 1, 7, 13, 6, 3, 2, 11, 4, 8, 9, 15, 10, 5, 14, 0]\n",
            "Cost/Jarak : 348.50294790504887\n"
          ]
        }
      ]
    }
  ]
}